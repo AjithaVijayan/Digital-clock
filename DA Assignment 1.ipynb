{
 "cells": [
  {
   "cell_type": "markdown",
   "id": "2005173b",
   "metadata": {},
   "source": [
    "# Digital Clock"
   ]
  },
  {
   "cell_type": "code",
   "execution_count": 1,
   "id": "412aec1b",
   "metadata": {},
   "outputs": [
    {
     "name": "stdout",
     "output_type": "stream",
     "text": [
      "21:06:20\n"
     ]
    }
   ],
   "source": [
    "import time\n",
    "\n",
    "t = time.localtime()\n",
    "current_time = time.strftime(\"%H:%M:%S\", t)\n",
    "print(current_time)"
   ]
  },
  {
   "cell_type": "markdown",
   "id": "3cccbfd1",
   "metadata": {},
   "source": [
    "# Random Password Generator"
   ]
  },
  {
   "cell_type": "code",
   "execution_count": 2,
   "id": "017eea8b",
   "metadata": {},
   "outputs": [
    {
     "name": "stdout",
     "output_type": "stream",
     "text": [
      "5X7*dPI$\n"
     ]
    }
   ],
   "source": [
    "import random\n",
    "\n",
    "dig=[\"1\",\"2\",\"3\",\"4\",\"5\",\"6\",\"7\",\"8\",\"9\",\"0\"]\n",
    "\n",
    "al=[\"!\",\"@\",\"#\",\"$\",\"%\",\"*\",\"_\",\n",
    "    \"1\",\"2\",\"3\",\"4\",\"5\",\"6\",\"7\",\"8\",\"9\",\"0\",\n",
    "    \"A\", \"B\", \"C\", \"D\", \"E\", \"F\", \"G\", \"H\", \"I\", \"J\", \"K\", \"L\", \"M\", \"N\", \"O\", \"P\", \"Q\", \"R\", \"S\", \"T\", \"U\", \"V\", \"W\", \"X\", \"Y\" ,\"Z\",\n",
    "    \"a\", \"b\", \"c\", \"d\", \"e\", \"f\", \"g\", \"h\", \"i\", \"j\", \"k\", \"l\", \"m\", \"n\", \"o\", \"p\", \"q\", \"r\", \"s\", \"t\", \"u\", \"v\", \"w\", \"x\", \"y\", \"z\"]\n",
    "\n",
    "cap=[\"A\", \"B\", \"C\", \"D\", \"E\", \"F\", \"G\", \"H\", \"I\", \"J\", \"K\", \"L\", \"M\", \"N\", \"O\", \"P\", \"Q\", \"R\", \"S\", \"T\", \"U\", \"V\", \"W\", \"X\", \"Y\" ,\"Z\"]\n",
    "\n",
    "sp=[\"!\",\"@\",\"#\",\"$\",\"%\",\"*\",\"_\"]\n",
    "\n",
    "a=random.choice(dig)\n",
    "b=\"\"\n",
    "for i in range(0,5):\n",
    "    c=random.choice(al)\n",
    "    b=b+c\n",
    "d=random.choice(cap)\n",
    "e=random.choice(sp)\n",
    "print(a+b+d+e)"
   ]
  },
  {
   "cell_type": "markdown",
   "id": "edddf60e",
   "metadata": {},
   "source": [
    "# Smallest and Largest Number"
   ]
  },
  {
   "cell_type": "code",
   "execution_count": 3,
   "id": "b3b5fc7b",
   "metadata": {},
   "outputs": [
    {
     "name": "stdout",
     "output_type": "stream",
     "text": [
      "Enter the list :4,5,6,7,8\n",
      "smallest number is 4\n",
      "Largest number is  8\n"
     ]
    }
   ],
   "source": [
    "num=eval(input(\"Enter the list :\"))\n",
    "list(num)\n",
    "b=num[0]\n",
    "c=num[0]\n",
    "for i in num:\n",
    "    if i>b:\n",
    "        b=i\n",
    "    if i<c:\n",
    "        c=i\n",
    "print(\"smallest number is\",c)\n",
    "print(\"Largest number is \",b)"
   ]
  },
  {
   "cell_type": "markdown",
   "id": "5dcce291",
   "metadata": {},
   "source": [
    "# Number of Vowels"
   ]
  },
  {
   "cell_type": "code",
   "execution_count": 5,
   "id": "aae4a26f",
   "metadata": {},
   "outputs": [
    {
     "name": "stdout",
     "output_type": "stream",
     "text": [
      "Enter the string:Kerala is Gods own country.\n",
      "Total no:of vowels : 8\n"
     ]
    }
   ],
   "source": [
    "a=input(\"Enter the string:\")\n",
    "vowels=[ \"a\", \"e\", \"i\", \"o\", \"u\",\"A\",\"E\",\"I\",\"O\",\"U\"]\n",
    "c=0\n",
    "for i in a:\n",
    "    if i in vowels:\n",
    "        c=c+1\n",
    "print(\"Total no:of vowels :\",c)"
   ]
  },
  {
   "cell_type": "code",
   "execution_count": null,
   "id": "cf97c759",
   "metadata": {},
   "outputs": [],
   "source": []
  }
 ],
 "metadata": {
  "kernelspec": {
   "display_name": "Python 3 (ipykernel)",
   "language": "python",
   "name": "python3"
  },
  "language_info": {
   "codemirror_mode": {
    "name": "ipython",
    "version": 3
   },
   "file_extension": ".py",
   "mimetype": "text/x-python",
   "name": "python",
   "nbconvert_exporter": "python",
   "pygments_lexer": "ipython3",
   "version": "3.9.13"
  }
 },
 "nbformat": 4,
 "nbformat_minor": 5
}
